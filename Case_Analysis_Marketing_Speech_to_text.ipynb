{
  "nbformat": 4,
  "nbformat_minor": 0,
  "metadata": {
    "colab": {
      "provenance": []
    },
    "kernelspec": {
      "name": "python3",
      "display_name": "Python 3"
    },
    "language_info": {
      "name": "python"
    }
  },
  "cells": [
    {
      "cell_type": "code",
      "execution_count": null,
      "metadata": {
        "colab": {
          "base_uri": "https://localhost:8080/",
          "height": 1000
        },
        "id": "B0kBsx76o4OS",
        "outputId": "b11efb35-3c77-4c23-ed46-48ff4578872c"
      },
      "outputs": [
        {
          "output_type": "stream",
          "name": "stdout",
          "text": [
            "Found existing installation: google-cloud-storage 2.19.0\n",
            "Uninstalling google-cloud-storage-2.19.0:\n",
            "  Successfully uninstalled google-cloud-storage-2.19.0\n",
            "Found existing installation: firebase-admin 6.9.0\n",
            "Uninstalling firebase-admin-6.9.0:\n",
            "  Successfully uninstalled firebase-admin-6.9.0\n",
            "Collecting google-cloud-storage==2.19.0\n",
            "  Downloading google_cloud_storage-2.19.0-py2.py3-none-any.whl.metadata (9.1 kB)\n",
            "Collecting firebase-admin==6.9.0\n",
            "  Downloading firebase_admin-6.9.0-py3-none-any.whl.metadata (1.5 kB)\n",
            "Requirement already satisfied: google-auth<3.0dev,>=2.26.1 in /usr/local/lib/python3.12/dist-packages (from google-cloud-storage==2.19.0) (2.38.0)\n",
            "Requirement already satisfied: google-api-core<3.0.0dev,>=2.15.0 in /usr/local/lib/python3.12/dist-packages (from google-cloud-storage==2.19.0) (2.25.1)\n",
            "Requirement already satisfied: google-cloud-core<3.0dev,>=2.3.0 in /usr/local/lib/python3.12/dist-packages (from google-cloud-storage==2.19.0) (2.4.3)\n",
            "Requirement already satisfied: google-resumable-media>=2.7.2 in /usr/local/lib/python3.12/dist-packages (from google-cloud-storage==2.19.0) (2.7.2)\n",
            "Requirement already satisfied: requests<3.0.0dev,>=2.18.0 in /usr/local/lib/python3.12/dist-packages (from google-cloud-storage==2.19.0) (2.32.4)\n",
            "Requirement already satisfied: google-crc32c<2.0dev,>=1.0 in /usr/local/lib/python3.12/dist-packages (from google-cloud-storage==2.19.0) (1.7.1)\n",
            "Requirement already satisfied: cachecontrol>=0.12.14 in /usr/local/lib/python3.12/dist-packages (from firebase-admin==6.9.0) (0.14.3)\n",
            "Requirement already satisfied: google-api-python-client>=1.7.8 in /usr/local/lib/python3.12/dist-packages (from firebase-admin==6.9.0) (2.182.0)\n",
            "Requirement already satisfied: pyjwt>=2.5.0 in /usr/local/lib/python3.12/dist-packages (from pyjwt[crypto]>=2.5.0->firebase-admin==6.9.0) (2.10.1)\n",
            "Requirement already satisfied: httpx==0.28.1 in /usr/local/lib/python3.12/dist-packages (from httpx[http2]==0.28.1->firebase-admin==6.9.0) (0.28.1)\n",
            "Requirement already satisfied: google-cloud-firestore>=2.19.0 in /usr/local/lib/python3.12/dist-packages (from firebase-admin==6.9.0) (2.21.0)\n",
            "Requirement already satisfied: anyio in /usr/local/lib/python3.12/dist-packages (from httpx==0.28.1->httpx[http2]==0.28.1->firebase-admin==6.9.0) (4.10.0)\n",
            "Requirement already satisfied: certifi in /usr/local/lib/python3.12/dist-packages (from httpx==0.28.1->httpx[http2]==0.28.1->firebase-admin==6.9.0) (2025.8.3)\n",
            "Requirement already satisfied: httpcore==1.* in /usr/local/lib/python3.12/dist-packages (from httpx==0.28.1->httpx[http2]==0.28.1->firebase-admin==6.9.0) (1.0.9)\n",
            "Requirement already satisfied: idna in /usr/local/lib/python3.12/dist-packages (from httpx==0.28.1->httpx[http2]==0.28.1->firebase-admin==6.9.0) (3.10)\n",
            "Requirement already satisfied: h2<5,>=3 in /usr/local/lib/python3.12/dist-packages (from httpx[http2]==0.28.1->firebase-admin==6.9.0) (4.3.0)\n",
            "Requirement already satisfied: h11>=0.16 in /usr/local/lib/python3.12/dist-packages (from httpcore==1.*->httpx==0.28.1->httpx[http2]==0.28.1->firebase-admin==6.9.0) (0.16.0)\n",
            "Requirement already satisfied: msgpack<2.0.0,>=0.5.2 in /usr/local/lib/python3.12/dist-packages (from cachecontrol>=0.12.14->firebase-admin==6.9.0) (1.1.1)\n",
            "Requirement already satisfied: googleapis-common-protos<2.0.0,>=1.56.2 in /usr/local/lib/python3.12/dist-packages (from google-api-core<3.0.0dev,>=2.15.0->google-cloud-storage==2.19.0) (1.70.0)\n",
            "Requirement already satisfied: protobuf!=3.20.0,!=3.20.1,!=4.21.0,!=4.21.1,!=4.21.2,!=4.21.3,!=4.21.4,!=4.21.5,<7.0.0,>=3.19.5 in /usr/local/lib/python3.12/dist-packages (from google-api-core<3.0.0dev,>=2.15.0->google-cloud-storage==2.19.0) (5.29.5)\n",
            "Requirement already satisfied: proto-plus<2.0.0,>=1.22.3 in /usr/local/lib/python3.12/dist-packages (from google-api-core<3.0.0dev,>=2.15.0->google-cloud-storage==2.19.0) (1.26.1)\n",
            "Requirement already satisfied: grpcio<2.0.0,>=1.33.2 in /usr/local/lib/python3.12/dist-packages (from google-api-core[grpc]<3.0.0dev,>=1.22.1; platform_python_implementation != \"PyPy\"->firebase-admin==6.9.0) (1.75.0)\n",
            "Requirement already satisfied: grpcio-status<2.0.0,>=1.33.2 in /usr/local/lib/python3.12/dist-packages (from google-api-core[grpc]<3.0.0dev,>=1.22.1; platform_python_implementation != \"PyPy\"->firebase-admin==6.9.0) (1.71.2)\n",
            "Requirement already satisfied: httplib2<1.0.0,>=0.19.0 in /usr/local/lib/python3.12/dist-packages (from google-api-python-client>=1.7.8->firebase-admin==6.9.0) (0.31.0)\n",
            "Requirement already satisfied: google-auth-httplib2<1.0.0,>=0.2.0 in /usr/local/lib/python3.12/dist-packages (from google-api-python-client>=1.7.8->firebase-admin==6.9.0) (0.2.0)\n",
            "Requirement already satisfied: uritemplate<5,>=3.0.1 in /usr/local/lib/python3.12/dist-packages (from google-api-python-client>=1.7.8->firebase-admin==6.9.0) (4.2.0)\n",
            "Requirement already satisfied: cachetools<6.0,>=2.0.0 in /usr/local/lib/python3.12/dist-packages (from google-auth<3.0dev,>=2.26.1->google-cloud-storage==2.19.0) (5.5.2)\n",
            "Requirement already satisfied: pyasn1-modules>=0.2.1 in /usr/local/lib/python3.12/dist-packages (from google-auth<3.0dev,>=2.26.1->google-cloud-storage==2.19.0) (0.4.2)\n",
            "Requirement already satisfied: rsa<5,>=3.1.4 in /usr/local/lib/python3.12/dist-packages (from google-auth<3.0dev,>=2.26.1->google-cloud-storage==2.19.0) (4.9.1)\n",
            "Requirement already satisfied: cryptography>=3.4.0 in /usr/local/lib/python3.12/dist-packages (from pyjwt[crypto]>=2.5.0->firebase-admin==6.9.0) (43.0.3)\n",
            "Requirement already satisfied: charset_normalizer<4,>=2 in /usr/local/lib/python3.12/dist-packages (from requests<3.0.0dev,>=2.18.0->google-cloud-storage==2.19.0) (3.4.3)\n",
            "Requirement already satisfied: urllib3<3,>=1.21.1 in /usr/local/lib/python3.12/dist-packages (from requests<3.0.0dev,>=2.18.0->google-cloud-storage==2.19.0) (2.5.0)\n",
            "Requirement already satisfied: cffi>=1.12 in /usr/local/lib/python3.12/dist-packages (from cryptography>=3.4.0->pyjwt[crypto]>=2.5.0->firebase-admin==6.9.0) (2.0.0)\n",
            "Requirement already satisfied: typing-extensions~=4.12 in /usr/local/lib/python3.12/dist-packages (from grpcio<2.0.0,>=1.33.2->google-api-core[grpc]<3.0.0dev,>=1.22.1; platform_python_implementation != \"PyPy\"->firebase-admin==6.9.0) (4.15.0)\n",
            "Requirement already satisfied: hyperframe<7,>=6.1 in /usr/local/lib/python3.12/dist-packages (from h2<5,>=3->httpx[http2]==0.28.1->firebase-admin==6.9.0) (6.1.0)\n",
            "Requirement already satisfied: hpack<5,>=4.1 in /usr/local/lib/python3.12/dist-packages (from h2<5,>=3->httpx[http2]==0.28.1->firebase-admin==6.9.0) (4.1.0)\n",
            "Requirement already satisfied: pyparsing<4,>=3.0.4 in /usr/local/lib/python3.12/dist-packages (from httplib2<1.0.0,>=0.19.0->google-api-python-client>=1.7.8->firebase-admin==6.9.0) (3.2.4)\n",
            "Requirement already satisfied: pyasn1<0.7.0,>=0.6.1 in /usr/local/lib/python3.12/dist-packages (from pyasn1-modules>=0.2.1->google-auth<3.0dev,>=2.26.1->google-cloud-storage==2.19.0) (0.6.1)\n",
            "Requirement already satisfied: sniffio>=1.1 in /usr/local/lib/python3.12/dist-packages (from anyio->httpx==0.28.1->httpx[http2]==0.28.1->firebase-admin==6.9.0) (1.3.1)\n",
            "Requirement already satisfied: pycparser in /usr/local/lib/python3.12/dist-packages (from cffi>=1.12->cryptography>=3.4.0->pyjwt[crypto]>=2.5.0->firebase-admin==6.9.0) (2.23)\n",
            "Downloading google_cloud_storage-2.19.0-py2.py3-none-any.whl (131 kB)\n",
            "\u001b[2K   \u001b[90m━━━━━━━━━━━━━━━━━━━━━━━━━━━━━━━━━━━━━━━━\u001b[0m \u001b[32m131.8/131.8 kB\u001b[0m \u001b[31m2.5 MB/s\u001b[0m eta \u001b[36m0:00:00\u001b[0m\n",
            "\u001b[?25hDownloading firebase_admin-6.9.0-py3-none-any.whl (139 kB)\n",
            "\u001b[2K   \u001b[90m━━━━━━━━━━━━━━━━━━━━━━━━━━━━━━━━━━━━━━━━\u001b[0m \u001b[32m139.7/139.7 kB\u001b[0m \u001b[31m9.1 MB/s\u001b[0m eta \u001b[36m0:00:00\u001b[0m\n",
            "\u001b[?25hInstalling collected packages: google-cloud-storage, firebase-admin\n",
            "Successfully installed firebase-admin-6.9.0 google-cloud-storage-2.19.0\n"
          ]
        },
        {
          "output_type": "display_data",
          "data": {
            "application/vnd.colab-display-data+json": {
              "pip_warning": {
                "packages": [
                  "google"
                ]
              },
              "id": "ddfcf9c34b684ed3b2c7cd515379743f"
            }
          },
          "metadata": {}
        }
      ],
      "source": [
        "!pip uninstall -y google-cloud-storage firebase-admin\n",
        "!pip install google-cloud-storage==2.19.0 firebase-admin==6.9.0\n",
        "\n"
      ]
    },
    {
      "cell_type": "code",
      "source": [
        "import os\n",
        "import firebase_admin\n",
        "from firebase_admin import credentials\n",
        "from firebase_admin import firestore"
      ],
      "metadata": {
        "id": "R1cPK501vyPw"
      },
      "execution_count": 1,
      "outputs": []
    },
    {
      "cell_type": "code",
      "source": [
        "# Use a service account.\n",
        "cred = credentials.Certificate('sa.json')\n",
        "\n",
        "app = firebase_admin.initialize_app(cred)\n",
        "\n",
        "db = firestore.client()"
      ],
      "metadata": {
        "id": "RXI7ji3cv6tG"
      },
      "execution_count": 2,
      "outputs": []
    },
    {
      "cell_type": "code",
      "source": [
        "!pip install pydub\n",
        "\n",
        "from pydub import AudioSegment\n",
        "\n",
        "# Load caller and agent audio\n",
        "caller = AudioSegment.from_wav(\"caller.wav\")\n",
        "agent = AudioSegment.from_wav(\"agent.wav\")\n",
        "\n",
        "# Option 1: Simple merge (caller first, then agent)\n",
        "conversation = caller + agent\n",
        "\n",
        "# Save merged file\n",
        "conversation.export(\"conversation.wav\", format=\"wav\")\n",
        "print(\"conversation.wav created ✅\")\n"
      ],
      "metadata": {
        "id": "xVa-MTwHv-CB",
        "colab": {
          "base_uri": "https://localhost:8080/"
        },
        "outputId": "3f9e4377-b0f1-4e94-c813-e6d3ebb41a30"
      },
      "execution_count": 3,
      "outputs": [
        {
          "output_type": "stream",
          "name": "stdout",
          "text": [
            "Requirement already satisfied: pydub in /usr/local/lib/python3.12/dist-packages (0.25.1)\n",
            "conversation.wav created ✅\n"
          ]
        }
      ]
    },
    {
      "cell_type": "code",
      "source": [
        "from google.cloud import storage\n",
        "from google.oauth2 import service_account\n",
        "\n",
        "creds = service_account.Credentials.from_service_account_file(\"sa.json\")\n",
        "\n",
        "bucket_name = \"admn5015-f25-sindhu\"\n",
        "source_file = \"conversation.wav\"\n",
        "destination_blob = \"conversation.wav\"\n",
        "\n",
        "storage_client = storage.Client(credentials=creds, project=creds.project_id)\n",
        "bucket = storage_client.bucket(bucket_name)\n",
        "blob = bucket.blob(destination_blob)\n",
        "blob.upload_from_filename(source_file)\n",
        "\n",
        "gcs_uri = f\"gs://{bucket_name}/{destination_blob}\"\n",
        "print(\"Uploaded to:\", gcs_uri)\n"
      ],
      "metadata": {
        "colab": {
          "base_uri": "https://localhost:8080/"
        },
        "id": "0B6vz9zaFVuw",
        "outputId": "94c79e01-2c2e-480e-8d22-af9896c6e0f3"
      },
      "execution_count": 5,
      "outputs": [
        {
          "output_type": "stream",
          "name": "stdout",
          "text": [
            "Uploaded to: gs://admn5015-f25-sindhu/conversation.wav\n"
          ]
        }
      ]
    },
    {
      "cell_type": "code",
      "source": [
        "from google.cloud import speech\n",
        "from google.oauth2 import service_account\n",
        "\n",
        "creds = service_account.Credentials.from_service_account_file(\"sa.json\")\n",
        "speech_client = speech.SpeechClient(credentials=creds)\n",
        "\n",
        "gcs_uri = \"gs://admn5015-f25-sindhu/conversation.wav\"\n",
        "\n",
        "audio = speech.RecognitionAudio(uri=gcs_uri)\n",
        "config = speech.RecognitionConfig(\n",
        "    encoding=speech.RecognitionConfig.AudioEncoding.LINEAR16,\n",
        "    sample_rate_hertz=8000,   # adjust if needed\n",
        "    language_code=\"en-US\",\n",
        "    enable_automatic_punctuation=True\n",
        ")\n",
        "\n",
        "# Use long_running_recognize for audio longer than 1 minute\n",
        "operation = speech_client.long_running_recognize(config=config, audio=audio)\n",
        "\n",
        "print(\"Waiting for operation to complete...\")\n",
        "response = operation.result(timeout=90) # Adjust timeout if necessary\n",
        "\n",
        "transcript = \" \".join([result.alternatives[0].transcript for result in response.results])\n",
        "print(\"Transcript:\\n\", transcript)"
      ],
      "metadata": {
        "colab": {
          "base_uri": "https://localhost:8080/"
        },
        "id": "bUqyKRraJfLK",
        "outputId": "fffb774d-4819-4c01-a775-682ed4f35bcb"
      },
      "execution_count": 11,
      "outputs": [
        {
          "output_type": "stream",
          "name": "stdout",
          "text": [
            "Waiting for operation to complete...\n",
            "Transcript:\n",
            " Hi. My name is Patricia Brown.  I lost my debit card, can you send me a new one?  My debit card.  Yes, my debit card.  No, I was going to be it.  Bye.  Hello Harper Valley National Bank. My name is Elizabeth. How can I help you today?  Which card did you like to sleep late?  Can you repeat that please?  Is there anything else I can help you with today?  Thank you for calling, have a great day.\n"
          ]
        }
      ]
    },
    {
      "cell_type": "code",
      "source": [
        "from google.cloud import language_v1\n",
        "from nltk import sent_tokenize\n",
        "import nltk, datetime\n",
        "\n",
        "# Download NLTK punkt tokenizer (first time only)\n",
        "nltk.download(\"punkt\")\n",
        "nltk.download(\"punkt_tab\")\n",
        "\n",
        "# Initialize Language API\n",
        "language_client = language_v1.LanguageServiceClient(credentials=creds)\n",
        "\n",
        "# Split transcript into sentences\n",
        "sentences = sent_tokenize(transcript)\n",
        "results = []\n",
        "\n",
        "for i, sentence in enumerate(sentences, start=1):\n",
        "    doc = language_v1.Document(content=sentence, type_=language_v1.Document.Type.PLAIN_TEXT)\n",
        "    sentiment = language_client.analyze_sentiment(request={'document': doc}).document_sentiment\n",
        "\n",
        "    record = {\n",
        "        \"wav_filename\": \"conversation.wav\",\n",
        "        \"sentence_number\": i,\n",
        "        \"sentence_text\": sentence,\n",
        "        \"sentiment\": sentiment.score,\n",
        "        \"magnitude\": sentiment.magnitude,\n",
        "        \"transcription_date\": str(datetime.date.today())\n",
        "    }\n",
        "    results.append(record)\n",
        "\n",
        "print(\"Sentiment results:\\n\", results)"
      ],
      "metadata": {
        "colab": {
          "base_uri": "https://localhost:8080/"
        },
        "id": "_4xtGCAFK3ls",
        "outputId": "cf470ef9-4047-40aa-9782-234650a383d4"
      },
      "execution_count": 13,
      "outputs": [
        {
          "output_type": "stream",
          "name": "stderr",
          "text": [
            "[nltk_data] Downloading package punkt to /root/nltk_data...\n",
            "[nltk_data]   Package punkt is already up-to-date!\n",
            "[nltk_data] Downloading package punkt_tab to /root/nltk_data...\n",
            "[nltk_data]   Unzipping tokenizers/punkt_tab.zip.\n"
          ]
        },
        {
          "output_type": "stream",
          "name": "stdout",
          "text": [
            "Sentiment results:\n",
            " [{'wav_filename': 'conversation.wav', 'sentence_number': 1, 'sentence_text': 'Hi.', 'sentiment': 0.10000000149011612, 'magnitude': 0.10000000149011612, 'transcription_date': '2025-10-01'}, {'wav_filename': 'conversation.wav', 'sentence_number': 2, 'sentence_text': 'My name is Patricia Brown.', 'sentiment': 0.0, 'magnitude': 0.0, 'transcription_date': '2025-10-01'}, {'wav_filename': 'conversation.wav', 'sentence_number': 3, 'sentence_text': 'I lost my debit card, can you send me a new one?', 'sentiment': -0.20000000298023224, 'magnitude': 0.20000000298023224, 'transcription_date': '2025-10-01'}, {'wav_filename': 'conversation.wav', 'sentence_number': 4, 'sentence_text': 'My debit card.', 'sentiment': -0.10000000149011612, 'magnitude': 0.10000000149011612, 'transcription_date': '2025-10-01'}, {'wav_filename': 'conversation.wav', 'sentence_number': 5, 'sentence_text': 'Yes, my debit card.', 'sentiment': 0.0, 'magnitude': 0.0, 'transcription_date': '2025-10-01'}, {'wav_filename': 'conversation.wav', 'sentence_number': 6, 'sentence_text': 'No, I was going to be it.', 'sentiment': -0.6000000238418579, 'magnitude': 0.6000000238418579, 'transcription_date': '2025-10-01'}, {'wav_filename': 'conversation.wav', 'sentence_number': 7, 'sentence_text': 'Bye.', 'sentiment': -0.4000000059604645, 'magnitude': 0.4000000059604645, 'transcription_date': '2025-10-01'}, {'wav_filename': 'conversation.wav', 'sentence_number': 8, 'sentence_text': 'Hello Harper Valley National Bank.', 'sentiment': 0.20000000298023224, 'magnitude': 0.20000000298023224, 'transcription_date': '2025-10-01'}, {'wav_filename': 'conversation.wav', 'sentence_number': 9, 'sentence_text': 'My name is Elizabeth.', 'sentiment': 0.0, 'magnitude': 0.0, 'transcription_date': '2025-10-01'}, {'wav_filename': 'conversation.wav', 'sentence_number': 10, 'sentence_text': 'How can I help you today?', 'sentiment': 0.0, 'magnitude': 0.0, 'transcription_date': '2025-10-01'}, {'wav_filename': 'conversation.wav', 'sentence_number': 11, 'sentence_text': 'Which card did you like to sleep late?', 'sentiment': 0.0, 'magnitude': 0.0, 'transcription_date': '2025-10-01'}, {'wav_filename': 'conversation.wav', 'sentence_number': 12, 'sentence_text': 'Can you repeat that please?', 'sentiment': -0.10000000149011612, 'magnitude': 0.10000000149011612, 'transcription_date': '2025-10-01'}, {'wav_filename': 'conversation.wav', 'sentence_number': 13, 'sentence_text': 'Is there anything else I can help you with today?', 'sentiment': -0.10000000149011612, 'magnitude': 0.10000000149011612, 'transcription_date': '2025-10-01'}, {'wav_filename': 'conversation.wav', 'sentence_number': 14, 'sentence_text': 'Thank you for calling, have a great day.', 'sentiment': 0.8999999761581421, 'magnitude': 0.8999999761581421, 'transcription_date': '2025-10-01'}]\n"
          ]
        }
      ]
    },
    {
      "cell_type": "code",
      "source": [
        "for rec in results:\n",
        "    doc_ref = db.collection(\"call_center_records\").document(\n",
        "        f\"{rec['wav_filename']}_s{rec['sentence_number']}\"\n",
        "    )\n",
        "    doc_ref.set(rec)\n",
        "\n",
        "print(\"Saved to Firestore ✅\")\n"
      ],
      "metadata": {
        "colab": {
          "base_uri": "https://localhost:8080/"
        },
        "id": "wW3PUzNGMB-w",
        "outputId": "554cd467-51fa-4420-813e-48d748d2febe"
      },
      "execution_count": 14,
      "outputs": [
        {
          "output_type": "stream",
          "name": "stdout",
          "text": [
            "Saved to Firestore ✅\n"
          ]
        }
      ]
    },
    {
      "cell_type": "code",
      "source": [
        "import matplotlib.pyplot as plt\n",
        "\n",
        "scores = [r[\"sentiment\"] for r in results]\n",
        "magnitudes = [r[\"magnitude\"] for r in results]\n",
        "\n",
        "plt.plot(scores, marker=\"o\", label=\"Sentiment Score\")\n",
        "plt.plot(magnitudes, marker=\"x\", label=\"Magnitude\")\n",
        "plt.axhline(0, color=\"gray\", linestyle=\"--\")\n",
        "plt.title(\"Sentiment Analysis of Call Center Conversation\")\n",
        "plt.xlabel(\"Sentence Number\")\n",
        "plt.ylabel(\"Value\")\n",
        "plt.legend()\n",
        "plt.show()\n"
      ],
      "metadata": {
        "colab": {
          "base_uri": "https://localhost:8080/",
          "height": 472
        },
        "id": "r0tOWwTuMHE2",
        "outputId": "48752062-0636-4d89-ba19-d85441a63602"
      },
      "execution_count": 15,
      "outputs": [
        {
          "output_type": "display_data",
          "data": {
            "text/plain": [
              "<Figure size 640x480 with 1 Axes>"
            ],
            "image/png": "[encoded data removed]"
          },
          "metadata": {}
        }
      ]
    },
    {
      "cell_type": "markdown",
      "source": [
        "# **Findings & Interpretation**\n",
        "The audio conversation between a caller and a banking agent was successfully transcribed using Google Cloud Speech-to-Text. The transcription captured both the customer’s issue (lost debit card) and the agent’s responses.\n",
        "\n",
        "Sentiment analysis showed mildly negative sentiment when the caller described the lost card, reflecting concern and frustration. Later, as the agent responded and the call progressed, sentiment scores became neutral to slightly positive, showing reassurance and closure.\n",
        "\n",
        "The visualization highlights this emotional journey: an initial dip in sentiment during the problem statement, followed by stabilization toward neutral/positive sentiment.\n",
        "\n",
        "The records stored in Firestore confirm that each sentence was analyzed individually with the required fields (wav_filename, sentence_number, sentence_text, sentiment, magnitude, transcription_date). This demonstrates how customer calls can be broken down into structured data for analysis, enabling insights into customer emotions and service quality."
      ],
      "metadata": {
        "id": "xogK2_u5NH85"
      }
    }
  ]
}